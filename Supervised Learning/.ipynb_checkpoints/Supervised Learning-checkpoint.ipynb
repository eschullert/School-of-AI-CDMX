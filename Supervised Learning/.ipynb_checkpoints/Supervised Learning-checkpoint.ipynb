{
 "cells": [
  {
   "cell_type": "markdown",
   "metadata": {},
   "source": [
    "# Aprendizaje Supervisado"
   ]
  },
  {
   "cell_type": "markdown",
   "metadata": {},
   "source": [
    "En el aprendizaje de máquina, hay tres tipos de aprendizaje distintos:\n",
    "* Aprendizaje Supervisado (Supervised Learning)\n",
    "* Aprendizaje sin Supervisión (Unsupervised Learning)\n",
    "* Aprendizaje de Refuerzo (Reinforcement Learning)\n",
    "\n",
    "\n",
    "El aprendizaje supervisado es el primero que aprenderemos. Este se caracteriza por tener *labels* además de los datos, o sea, un dataset de entrenamiento que ya tenga las \"respuestas\".\n",
    "Existen varias tareas que se pueden hacer usando aprendizaje de máquina, cada una de estas se puede hacer de forma supervisada, sin supervisión o con refuerzo. Comunmente, utilizaremos solamente seis tipos:\n",
    "* Selección de características\n",
    "* Clasificación\n",
    "* Regresión\n",
    "* Clustering\n",
    "* Optimización\n",
    "* Ranking"
   ]
  },
  {
   "cell_type": "markdown",
   "metadata": {},
   "source": [
    "## Ejemplo simple de clasificación"
   ]
  },
  {
   "cell_type": "markdown",
   "metadata": {},
   "source": [
    "Un dataset que se utiliza mucho cuando se enseña aprendizaje de máquia es el Iris Dataset: consiste de tres diferentes tipos de flores y sus características.\n",
    "\n",
    "**Iris Setosa**\n",
    "\n",
    "<img src=\"iris_setosa.jpg\" width=\"20%\">\n",
    "\n",
    "**Iris Versicolor**\n",
    "<img src=\"iris_versicolor.jpg\" width=\"20%\">\n",
    "\n",
    "**Iris Virginica**\n",
    "<img src=\"iris_virginica.jpg\" width=\"20%\">"
   ]
  },
  {
   "cell_type": "markdown",
   "metadata": {},
   "source": [
    "Este dataset tiene "
   ]
  }
 ],
 "metadata": {
  "kernelspec": {
   "display_name": "Python 3",
   "language": "python",
   "name": "python3"
  },
  "language_info": {
   "codemirror_mode": {
    "name": "ipython",
    "version": 3
   },
   "file_extension": ".py",
   "mimetype": "text/x-python",
   "name": "python",
   "nbconvert_exporter": "python",
   "pygments_lexer": "ipython3",
   "version": "3.6.6"
  }
 },
 "nbformat": 4,
 "nbformat_minor": 2
}
