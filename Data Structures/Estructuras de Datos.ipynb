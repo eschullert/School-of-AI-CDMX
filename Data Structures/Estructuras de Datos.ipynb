{
 "cells": [
  {
   "cell_type": "markdown",
   "metadata": {},
   "source": [
    "# Estructuras de Datos"
   ]
  },
  {
   "cell_type": "markdown",
   "metadata": {},
   "source": [
    "Esta sesión aprenderemos sobre seis estructuras de datos diferentes:\n",
    "* Arreglos (Arrays)\n",
    "* Pilas (Stacks)\n",
    "* Colas (Queues)\n",
    "* Listas ligadas (Linked Lists)\n",
    "* Árboles (Trees)\n",
    "* Gráfos (Graphs)\n",
    "\n",
    "Cáda una de estas estructuras de datos tiene una función diferente que puede ayudar a resolver diferentes tipos de problemas. Todas las estructuras se implementan en el mundo profesional."
   ]
  },
  {
   "cell_type": "markdown",
   "metadata": {},
   "source": [
    "## Arreglos"
   ]
  },
  {
   "cell_type": "markdown",
   "metadata": {},
   "source": [
    "El arreglo es la estructura de datos más básica que existe. Al programar un arreglo, el programador tiene que decir cuántas casillas va a tener previamente. Esto es porque el programa tiene que \"apartar\" en la memoria el espacio para guardar "
   ]
  },
  {
   "cell_type": "code",
   "execution_count": null,
   "metadata": {},
   "outputs": [],
   "source": []
  },
  {
   "cell_type": "code",
   "execution_count": null,
   "metadata": {},
   "outputs": [],
   "source": []
  }
 ],
 "metadata": {
  "kernelspec": {
   "display_name": "Python 3",
   "language": "python",
   "name": "python3"
  },
  "language_info": {
   "codemirror_mode": {
    "name": "ipython",
    "version": 3
   },
   "file_extension": ".py",
   "mimetype": "text/x-python",
   "name": "python",
   "nbconvert_exporter": "python",
   "pygments_lexer": "ipython3",
   "version": "3.6.6"
  }
 },
 "nbformat": 4,
 "nbformat_minor": 2
}
