{
 "cells": [
  {
   "cell_type": "markdown",
   "metadata": {},
   "source": [
    "# ¿Qué es Inteligencia Artificial?"
   ]
  },
  {
   "cell_type": "markdown",
   "metadata": {},
   "source": [
    "El estudio de la inteligencia artificial es un campo todavia abierto, en el que sigue habiendo mucha investigación y constante cambio. Es un campo tan extenso que no existe nadie que sea experto en inteligencia artificial, solamente hay expertos en uno de sus subtemas, como machine learning. Algunas de sus áreas son:\n",
    " - Machine learning\n",
    " - Procesamiento del lenguaje\n",
    " - Búsqueda\n",
    " - Robótica\n",
    " - Visión por computadora\n",
    " - Modelado del conocimiento\n",
    " - Sistemas espertos\n",
    " - Optimización\n",
    " \n",
    "Además, algunas de estas áreas son tan extensas que se dividen en subareas, como aprendizaje de máquina."
   ]
  },
  {
   "cell_type": "markdown",
   "metadata": {},
   "source": [
    "<img src=\"ai-areas-graph.jpg\">"
   ]
  },
  {
   "cell_type": "markdown",
   "metadata": {},
   "source": [
    "En estas clases nosotros solamente vamos a ver:\n",
    " - **Aprendizaje de máquina**\n",
    "     - Deep learning\n",
    " - Procesamiento del lenguaje\n",
    " - Visión por computadora\n",
    "\n",
    "Más adelante podremos ver otros temas como:\n",
    " - Robótica\n",
    " - Vehículos autónomos"
   ]
  },
  {
   "cell_type": "markdown",
   "metadata": {},
   "source": [
    "## Ejemplos de diferentes áreas de inteligencia artificial"
   ]
  },
  {
   "cell_type": "markdown",
   "metadata": {},
   "source": [
    "### Búsqueda"
   ]
  },
  {
   "cell_type": "markdown",
   "metadata": {},
   "source": [
    "Los algoritmos de búsqueda sirven para encontrar un camino en un árbol que sea óptimo para el usuario. Un ejemplo en el que se puede hacer búsqueda es un algoritmo para jugar ajedrez, el tablero actual es el nodo *raíz* y de ahí se van abriendo más nodos con las diferentes jugadas que se pueden hacer."
   ]
  },
  {
   "cell_type": "markdown",
   "metadata": {},
   "source": [
    "<img src=\"minmax.png\">"
   ]
  },
  {
   "cell_type": "markdown",
   "metadata": {},
   "source": [
    "El árbol de arriba es una representación de un algoritmo llamado MinMax, que sirve para encontrar el mejor camino que puede haber en un árbol. La forma en la que funciona es: los nodos azules son el máximo de las opciones que tiene, mientras que los nodos rojos son el minimo de las opciones que tiene.\n",
    "Así se modela un juego, donde el azul es la persona que esta jugando y el rojo es su contrincante. Esto es tomando en cuenta que ambas personas van a jugar de la mejor forma posible, con las circunstancias que tiene."
   ]
  },
  {
   "cell_type": "markdown",
   "metadata": {},
   "source": [
    "En algunos juegos el árbol es demasiado grande para poder procesarlo todo con la computadora, por lo que se tienen que cortar algunos nodos que afectan el resultado. El algoritmo más común que hace esto se llama $\\alpha-\\beta$ pruning (alpha-beta pruning).\n",
    "\n",
    "Retomando el ejemplo del ajedrez, es necesario utilizar este algoritmo, ya que el ajedrez tiene aproximadamente $10^{120}$ diferentes partidas. Para poner esto en contexto, existen $10^{82}$ átomos en el universo. Si utilizaramos todo el poder computacional que hay en la tierra actualmente podríamos terminar de procesar todas las partidas de ajedrez existentes en $3.17*10^{91}$ años, que son $2.26*10^{84}$ veces la vida del universo."
   ]
  },
  {
   "cell_type": "markdown",
   "metadata": {},
   "source": [
    "Ya que podemos ver que es imposible ver todo el árbol del ajedrez es necesario implementar dos cosas para reducir esta complejidad: $\\alpha-\\beta$ pruning y heurística."
   ]
  },
  {
   "cell_type": "markdown",
   "metadata": {},
   "source": [
    "<img src=\"search.png\">"
   ]
  },
  {
   "cell_type": "markdown",
   "metadata": {},
   "source": [
    "Arriba se puede ver un árbol procesado con $\\alpha-\\beta$, como pueden ver, hay algunas ramas del árbol que se cortan porque no hacen diferencia al resultado final. Esas ramas pueden parecer como que tienen pocos nodos, pero cuando se hace más grande el árbol, esa cantidad de nodos crece exponencialmente.\n",
    "\n",
    "A pesar de que todos estos algoritmos pueden parecer muy complejos, son la parte más fácil de búsqueda u otros tipos de inteligencia artificial. En realidad, la parte más compleja e importante de la inteligencia artificial, sin incluir aprendizaje de máquina, es el conocimiento que hay detrás de los algoritmos. Por ejemplo, para programar una aplicación como Waze o Google Maps es muy fácil programar los algoritmos que se utilizaran, cualquier programador podría hacerlo con unos días de trabajo e investigación en Stack Overflow. Pero lo más dificil de hacer es el conocimiento que hay detrás de los algorimtos, la heurística. En el caso de Google Maps, esto son los mapas con la información del trafico y el algoritmo que calcula el tiempo que se hace de un lugar al otro."
   ]
  },
  {
   "cell_type": "markdown",
   "metadata": {},
   "source": [
    "### Aprendizaje de máquina"
   ]
  },
  {
   "cell_type": "markdown",
   "metadata": {},
   "source": [
    "El aprendizaje de máquina utiliza datos en vez de conocimeinto para poder sacar conclusiones, el gran valor que tiene es que se pueden sacar conclusiones y hacer muchas cosas sin saber nada sobre los datos. Dentro del aprendizaje de máquina existen tres tipos diferentes de aprendizaje:\n",
    " - Aprendizaje supervisado\n",
    " - Aprendizaje no supervisado\n",
    " - Aprendizaje por refuerzo"
   ]
  },
  {
   "cell_type": "markdown",
   "metadata": {},
   "source": [
    "\n",
    "\n",
    "Los diferentes temas que vamos a ver están dentro del área de aprendizaje de máquina, algunas cosas que veremos son:\n",
    " - Procesamiento de datos con Python/Pandas\n",
    " - Machine learning básico\n",
    " - Algoritmos de Machine Learning\n",
    "     - Clasificación\n",
    "     - Regresión\n",
    "     - Clustering\n",
    " - Redes neuronales Artificiales\n",
    "     - Back propagation\n",
    "     - Optimización\n",
    " - Redes neuronales Convolucionales\n",
    "     - Visión por computadora\n",
    "     - Detección de objetos\n",
    "     - Face recognition\n",
    " - Redes neuronales recurrentes\n",
    "     - Redes neuronales LSTM\n",
    "         - Taller de generación de música\n",
    " - Natural Language processing\n",
    "     - Taller de generación de texto\n",
    " - Generative Adversarial Networks\n",
    " - Reinforcement learning\n",
    " - Monte Carlo Algorithm\n",
    " - Q-Learning"
   ]
  },
  {
   "cell_type": "markdown",
   "metadata": {},
   "source": [
    "El primer tipo de aprendizaje que vamos a ver es el aprendizaje supervisado, pueden encontrar el repositorio para esto en:\n",
    "\n",
    "https://github.com/SchoolOfAICDMX/Procesamiento-de-Datos-y-Aprendizaje-Supervizado/blob/master/Supervised%20Learning.ipynb"
   ]
  }
 ],
 "metadata": {
  "kernelspec": {
   "display_name": "Python 3",
   "language": "python",
   "name": "python3"
  },
  "language_info": {
   "codemirror_mode": {
    "name": "ipython",
    "version": 3
   },
   "file_extension": ".py",
   "mimetype": "text/x-python",
   "name": "python",
   "nbconvert_exporter": "python",
   "pygments_lexer": "ipython3",
   "version": "3.7.2"
  }
 },
 "nbformat": 4,
 "nbformat_minor": 2
}
